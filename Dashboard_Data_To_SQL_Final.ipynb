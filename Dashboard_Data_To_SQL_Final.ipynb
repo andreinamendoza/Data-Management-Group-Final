{
 "cells": [
  {
   "cell_type": "code",
   "execution_count": 34,
   "metadata": {},
   "outputs": [],
   "source": [
    "#Loading required libraries\n",
    "\n",
    "import pandas as pd\n",
    "import sqlite3\n"
   ]
  },
  {
   "cell_type": "code",
   "execution_count": 35,
   "metadata": {},
   "outputs": [
    {
     "name": "stdout",
     "output_type": "stream",
     "text": [
      "['Age Race Ethnicity', 'Patient Characteristics', 'Services', 'Clinical Data & Services', 'Cost', 'Resource Information']\n"
     ]
    }
   ],
   "source": [
    "# Load the Excel file\n",
    "file_path = \"Healthcare Dashboard Data.xlsx\"\n",
    "excel_data = pd.ExcelFile(file_path)\n",
    "\n",
    "# Check sheet names\n",
    "print(excel_data.sheet_names)\n"
   ]
  },
  {
   "cell_type": "code",
   "execution_count": 36,
   "metadata": {},
   "outputs": [
    {
     "name": "stdout",
     "output_type": "stream",
     "text": [
      "Tables created successfully.\n"
     ]
    }
   ],
   "source": [
    "import sqlite3\n",
    "\n",
    "# Connect to SQLite database\n",
    "conn = sqlite3.connect(\"please_healthcare_database.db\")\n",
    "\n",
    "# Define SQL script for table creation\n",
    "sql_script = \"\"\"\n",
    "PRAGMA foreign_keys = ON;\n",
    "\n",
    "CREATE TABLE IF NOT EXISTS \"Age, Race, Ethnicity\" (\n",
    "\t\"Center ID\" NUMERIC NOT NULL UNIQUE,\n",
    "\t\"Children (< 18 years old)\" NUMERIC,\n",
    "\t\"Adult (18 - 64)\" NUMERIC,\n",
    "\t\"Older Adults (age 65 and over)\" NUMERIC,\n",
    "\t\"Racial and/or Ethnic Minority\" NUMERIC,\n",
    "\t\"Hispanic/Latino Ethnicity\" NUMERIC,\n",
    "\t\"Black/African American\" NUMERIC,\n",
    "\t\"Asian\" NUMERIC,\n",
    "\t\"American Indian/Alaska Native\" NUMERIC,\n",
    "\t\"Native Hawaiian / Other Pacific Islander\" NUMERIC,\n",
    "\t\"More than one race\" NUMERIC,\n",
    "\t\"Best Served in another language\" NUMERIC,\n",
    "\tPRIMARY KEY(\"Center ID\")\n",
    ");\n",
    "\n",
    "CREATE TABLE IF NOT EXISTS \"Patient Characteristics\" (\n",
    "\t\"Center ID\" NUMERIC NOT NULL UNIQUE,\n",
    "\t\"Patients at or below 200% of poverty\" INTEGER,\n",
    "\t\"Patients at or below 100% of poverty\" INTEGER,\n",
    "\t\"Uninsured\" INTEGER,\n",
    "\t\"Medicaid/CHIP\" INTEGER,\n",
    "\t\"Medicare\" INTEGER,\n",
    "\t\"Other Third Party\" NUMERIC,\n",
    "\tPRIMARY KEY(\"Center ID\"),\n",
    "\tFOREIGN KEY (\"Center ID\") REFERENCES \"Age, Race, Ethnicity\"(\"Center ID\")\n",
    "\tON UPDATE NO ACTION ON DELETE NO ACTION\n",
    ");\n",
    "\n",
    "CREATE TABLE IF NOT EXISTS \"Clinical Data & Services\" (\n",
    "\t\"Center ID\" NUMERIC NOT NULL UNIQUE,\n",
    "\t\"Hypertension\" INTEGER,\n",
    "\t\"Diabetes\" INTEGER,\n",
    "\t\"Asthma\" INTEGER,\n",
    "\t\"HIV\" INTEGER,\n",
    "\t\"Prenatal Patients\" INTEGER,\n",
    "\t\"Prenatal Patients who Delivered\" INTEGER,\n",
    "\t\"Access to Prenatal Care (First Prenatal Visit in 1st Trimester)\" INTEGER,\n",
    "\t\"Low Birth Weight\" INTEGER,\n",
    "\t\"Cervical Cancer Screening\" INTEGER,\n",
    "\t\"Adolescent Weight Screening and Follow Up\" INTEGER,\n",
    "\t\"Adult Weight Screening and Follow Up\" INTEGER,\n",
    "\t\"Adults Screened for Tobacco Use and Receiving Cessation Intervention\" INTEGER,\n",
    "\t\"Colorectal Cancer Screening\" INTEGER,\n",
    "\t\"Childhood Immunization\" INTEGER,\n",
    "\t\"Depression Screening\" INTEGER,\n",
    "\t\"Dental Sealants\" INTEGER,\n",
    "\t\"Asthma Treatment (Appropriate Treatment Plan)\" INTEGER,\n",
    "\t\"Statin Therapy for the Prevention and Treatment of Cardiovascular Disease\" INTEGER,\n",
    "\t\"Heart Attack/Stroke Treatment (Aspirin Therapy for Ischemic Vascular Disease Patients)\" INTEGER,\n",
    "\t\"Blood Pressure Control (Hypertensive Patients with Blood Pressure < 140/90)\" INTEGER,\n",
    "\t\"Uncontrolled Diabetes > 9%\" INTEGER,\n",
    "\t\"HIV Linkage to Care\" INTEGER,\n",
    "\t\"Breast Cancer Screening\" INTEGER,\n",
    "\t\"Depression Remission\" INTEGER,\n",
    "\t\"HIV Screening\" INTEGER,\n",
    "\t\"Medical\" INTEGER,\n",
    "\t\"Dental\" INTEGER,\n",
    "\t\"Mental Health\" INTEGER,\n",
    "\t\"Substance Abuse\" INTEGER,\n",
    "\t\"Vision\" INTEGER,\n",
    "\t\"Enabling\" INTEGER,\n",
    "\tPRIMARY KEY(\"Center ID\")\n",
    ");\n",
    "\n",
    "CREATE TABLE IF NOT EXISTS \"Cost\" (\n",
    "\t\"Center ID\" NUMERIC NOT NULL UNIQUE,\n",
    "\t\"Health Center Service Grant Expenditures\" INTEGER,\n",
    "\t\"Total Cost\" INTEGER,\n",
    "\t\"Total Cost Per Patient\" INTEGER,\n",
    "\t\"Total Patients\" NUMERIC,\n",
    "\tPRIMARY KEY(\"Center ID\"),\n",
    "\tFOREIGN KEY (\"Center ID\") REFERENCES \"Clinical Data & Services\"(\"Center ID\")\n",
    "\tON UPDATE NO ACTION ON DELETE NO ACTION,\n",
    "\tFOREIGN KEY (\"Total Patients\") REFERENCES \"Health Center Information\"(\"Total Patients\")\n",
    "\tON UPDATE NO ACTION ON DELETE NO ACTION\n",
    ");\n",
    "\n",
    "CREATE TABLE IF NOT EXISTS \"Health Center Information\" (\n",
    "\t\"Health Center Name\" VARCHAR NOT NULL,\n",
    "\t\"City\" TEXT NOT NULL,\n",
    "\t\"State\" TEXT NOT NULL,\n",
    "\t\"Total Patients\" NUMERIC NOT NULL,\n",
    "\t\"Center ID\" NUMERIC NOT NULL,\n",
    "\tPRIMARY KEY(\"Center ID\"),\n",
    "\tFOREIGN KEY (\"Center ID\") REFERENCES \"Age, Race, Ethnicity\"(\"Center ID\")\n",
    "\tON UPDATE NO ACTION ON DELETE NO ACTION\n",
    ");\n",
    "\n",
    "\n",
    "\n",
    "\"\"\"\n",
    "\n",
    "# Execute SQL script\n",
    "cursor = conn.cursor()\n",
    "cursor.executescript(sql_script)\n",
    "\n",
    "# Commit and close the connection\n",
    "conn.commit()\n",
    "conn.close()\n",
    "\n",
    "print(\"Tables created successfully.\")\n"
   ]
  },
  {
   "cell_type": "code",
   "execution_count": 37,
   "metadata": {},
   "outputs": [],
   "source": [
    "\n",
    "# Load sheets into DataFrames\n",
    "age_race_ethnicity_df = excel_data.parse(\"Age Race Ethnicity\")\n",
    "patient_characteristics_df = excel_data.parse(\"Patient Characteristics\")\n",
    "services_and_clinical_df = excel_data.parse(\"Clinical Data & Services\")\n",
    "cost_df = excel_data.parse(\"Cost\")\n"
   ]
  },
  {
   "cell_type": "code",
   "execution_count": 38,
   "metadata": {},
   "outputs": [],
   "source": [
    "# adding in data for \"Health Center Information\"\n",
    "health_center_info_df = age_race_ethnicity_df[[\"Center ID\",\"Health Center Name\",\"City\",\"State\", \"Total Patients\"]]\n"
   ]
  },
  {
   "cell_type": "code",
   "execution_count": 39,
   "metadata": {},
   "outputs": [
    {
     "data": {
      "text/plain": [
       "1363"
      ]
     },
     "execution_count": 39,
     "metadata": {},
     "output_type": "execute_result"
    }
   ],
   "source": [
    "# Connect to SQLite database\n",
    "conn = sqlite3.connect(\"please_healthcare_database.db\")\n",
    "\n",
    "# Insert data into tables\n",
    "health_center_info_df.to_sql(\"Health Center Information\", conn, if_exists=\"append\", index=False)"
   ]
  },
  {
   "cell_type": "code",
   "execution_count": 40,
   "metadata": {},
   "outputs": [],
   "source": [
    "#filtering only the required info for age race and ethnicity\n",
    "age_race_ethnicity_df = age_race_ethnicity_df[[\"Center ID\",\"Children (< 18 years old)\",\"Adult (18 - 64)\",\"Older Adults (age 65 and over)\",\"Racial and/or Ethnic Minority\",\n",
    "                                               \"Hispanic/Latino Ethnicity\",\"Black/African American\",\"Asian\",\"American Indian/Alaska Native\",\"Native Hawaiian / Other Pacific Islander\",\n",
    "                                               \"More than one race\",\"Best Served in another language\"]]\n",
    "\n"
   ]
  },
  {
   "cell_type": "code",
   "execution_count": 41,
   "metadata": {},
   "outputs": [
    {
     "data": {
      "text/plain": [
       "1363"
      ]
     },
     "execution_count": 41,
     "metadata": {},
     "output_type": "execute_result"
    }
   ],
   "source": [
    "# Insert data into tables\n",
    "age_race_ethnicity_df.to_sql(\"Age, Race, Ethnicity\", conn, if_exists=\"append\", index=False)"
   ]
  },
  {
   "cell_type": "code",
   "execution_count": 44,
   "metadata": {},
   "outputs": [],
   "source": [
    "#filtering only the required info for cost\n",
    "cost_df = cost_df[['Center ID', 'Total Patients', \n",
    "       'Health Center Service Grant Expenditures', 'Total Cost',\n",
    "       'Total Cost Per Patient']]"
   ]
  },
  {
   "cell_type": "code",
   "execution_count": 45,
   "metadata": {},
   "outputs": [
    {
     "data": {
      "text/plain": [
       "1363"
      ]
     },
     "execution_count": 45,
     "metadata": {},
     "output_type": "execute_result"
    }
   ],
   "source": [
    "# Insert data into tables\n",
    "cost_df.to_sql(\"Cost\", conn, if_exists=\"append\", index=False)"
   ]
  },
  {
   "cell_type": "code",
   "execution_count": 46,
   "metadata": {},
   "outputs": [],
   "source": [
    "#filtering only the required info for Services and Clinical Data\n",
    "services_and_clinical_df=services_and_clinical_df[['Center ID', 'Hypertension',\n",
    "       'Diabetes', 'Asthma', 'HIV', 'Prenatal Patients',\n",
    "       'Prenatal Patients who Delivered',\n",
    "       'Access to Prenatal Care (First Prenatal Visit in 1st Trimester)',\n",
    "       'Low Birth Weight', 'Cervical Cancer Screening',\n",
    "       'Adolescent Weight Screening and Follow Up',\n",
    "       'Adult Weight Screening and Follow Up',\n",
    "       'Adults Screened for Tobacco Use and Receiving Cessation Intervention',\n",
    "       'Colorectal Cancer Screening', 'Childhood Immunization',\n",
    "       'Depression Screening', 'Dental Sealants',\n",
    "       'Asthma Treatment (Appropriate Treatment Plan)',\n",
    "       'Statin Therapy for the Prevention and Treatment of Cardiovascular Disease',\n",
    "       'Heart Attack/Stroke Treatment (Aspirin Therapy for Ischemic Vascular Disease Patients)',\n",
    "       'Blood Pressure Control (Hypertensive Patients with Blood Pressure < 140/90)',\n",
    "       'Uncontrolled Diabetes > 9%', 'HIV Linkage to Care',\n",
    "       'Breast Cancer Screening', 'Depression Remission', 'HIV Screening']]"
   ]
  },
  {
   "cell_type": "code",
   "execution_count": 47,
   "metadata": {},
   "outputs": [
    {
     "data": {
      "text/plain": [
       "1363"
      ]
     },
     "execution_count": 47,
     "metadata": {},
     "output_type": "execute_result"
    }
   ],
   "source": [
    "# Insert data into tables\n",
    "services_and_clinical_df.to_sql(\"Clinical Data & Services\", conn, if_exists=\"append\", index=False)"
   ]
  },
  {
   "cell_type": "code",
   "execution_count": 50,
   "metadata": {},
   "outputs": [],
   "source": [
    "#filtering only the required info for Services and Clinical Data\n",
    "\n",
    "patient_characteristics_df=patient_characteristics_df[['Center ID', \n",
    "       'Patients at or below 200% of poverty',\n",
    "       'Patients at or below 100% of poverty', 'Uninsured', 'Medicaid/CHIP',\n",
    "       'Medicare', 'Other Third Party']]"
   ]
  },
  {
   "cell_type": "code",
   "execution_count": 51,
   "metadata": {},
   "outputs": [
    {
     "data": {
      "text/plain": [
       "1363"
      ]
     },
     "execution_count": 51,
     "metadata": {},
     "output_type": "execute_result"
    }
   ],
   "source": [
    "# Insert data into tables\n",
    "patient_characteristics_df.to_sql(\"Patient Characteristics\", conn, if_exists=\"append\", index=False)"
   ]
  }
 ],
 "metadata": {
  "kernelspec": {
   "display_name": "base",
   "language": "python",
   "name": "python3"
  },
  "language_info": {
   "codemirror_mode": {
    "name": "ipython",
    "version": 3
   },
   "file_extension": ".py",
   "mimetype": "text/x-python",
   "name": "python",
   "nbconvert_exporter": "python",
   "pygments_lexer": "ipython3",
   "version": "3.12.4"
  }
 },
 "nbformat": 4,
 "nbformat_minor": 2
}
